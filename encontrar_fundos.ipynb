{
 "cells": [
  {
   "cell_type": "markdown",
   "metadata": {},
   "source": [
    "### Raspagem de Dados\n",
    "\n",
    "A célula abaixo é responsável em receber o nome de um fundo e pesquisar no site fundExplorer.com.br a cotação e dividendo atual."
   ]
  },
  {
   "cell_type": "code",
   "execution_count": 1,
   "metadata": {},
   "outputs": [],
   "source": [
    "import requests\n",
    "from bs4 import BeautifulSoup\n",
    "\n",
    "\n",
    "def valor_atual(fii):\n",
    "    valor = 0\n",
    "    dividendo = 0\n",
    "    fii = fii.upper()\n",
    "    link_fii = 'http://www.fundsexplorer.com.br/funds/'+fii\n",
    "    try:\n",
    "        page = requests.get(link_fii)\n",
    "        soup = BeautifulSoup(page.content, 'html.parser')\n",
    "        p = soup.findAll('div', class_='right')\n",
    "        valor = p[0].find('div', class_='count').contents[0]\n",
    "        valor = str(valor)\n",
    "        valor = valor.replace(',','.')\n",
    "        valor = float(valor)\n",
    "        dividendo = p[2].find('div', class_='count').contents[0]\n",
    "        dividendo = str(dividendo)\n",
    "        dividendo = dividendo.replace(',','.')\n",
    "        dividendo = float(dividendo)\n",
    "    except:\n",
    "        print(\"Erro na raspagem de dados do fundo: \" + fii)\n",
    "    \n",
    "    return valor, dividendo"
   ]
  },
  {
   "cell_type": "markdown",
   "metadata": {},
   "source": [
    "### Aplicação da Programação Linear\n",
    "\n",
    "A célula abaixo é responsável em receber uma lista de Fundos Imobiliários e o valor a ser aplicado.\n",
    "De posse destes dados, calcula a maximização das alocações, baseada no Yeld."
   ]
  },
  {
   "cell_type": "code",
   "execution_count": 2,
   "metadata": {},
   "outputs": [],
   "source": [
    "import pulp\n",
    "\n",
    "def alocar_recurso(fii_listados, quantidade_aplicado):\n",
    "    lista_cotacao = []\n",
    "    lista_variaveis = []\n",
    "    lista_dividendos = []\n",
    "\n",
    "    print(40 * \"*\")\n",
    "    print(\" Cotação do dia \")\n",
    "    for fundo in fii_listados:\n",
    "        valor_e_dividendo = valor_atual(fundo)\n",
    "        if valor_e_dividendo[0] > 0:\n",
    "            lista_variaveis.append(pulp.LpVariable(fundo, lowBound=0, cat='Integer'))\n",
    "            lista_cotacao.append(valor_e_dividendo[0])\n",
    "            lista_dividendos.append(valor_e_dividendo[1])\n",
    "            print(\"FII \" + str(fundo) + \" cotado a R$ \" + str(valor_e_dividendo[0]) )\n",
    "            print(\"último dividendo de \" + str(fundo) + \" =  R$ \" + str(valor_e_dividendo[1]) + \"\\n\")\n",
    "    print(40 * \"*\")\n",
    "\n",
    "    model = pulp.LpProblem(\"Maximizar ganhos baseado nos dividentos \", pulp.LpMaximize)\n",
    "\n",
    "    maximizar = \"\"\n",
    "    for fundo in range(len(lista_variaveis)):\n",
    "        maximizar += lista_variaveis[fundo] * lista_dividendos[fundo]\n",
    "    model += maximizar\n",
    "\n",
    "    restricao = \"\"\n",
    "    for fundo in range(len(lista_variaveis)):\n",
    "        restricao += lista_variaveis[fundo] * lista_cotacao[fundo]\n",
    "    model += restricao <= quantidade_aplicado, 'Maximo que posso aplicar'\n",
    "\n",
    "    # print(model)\n",
    "\n",
    "    # Resolve o problema\n",
    "    model.solve()\n",
    "        \n",
    "    if pulp.LpStatus[model.status] == \"Optimal\":\n",
    "        print(\"A solução existe e foi encontrada\")\n",
    "        print (\"Rendimento baseado nos dividendos: R$ \" + str(pulp.value(model.objective)))\n",
    "        return lista_variaveis\n",
    "\n",
    "    if pulp.LpStatus[model.status] == \"Not Solved\":\n",
    "        print(\"Solução não encontrada\")\n",
    "        return []\n",
    "    \n",
    "    if pulp.LpStatus[model.status] == \"INFEASIBLE\":\n",
    "        print(\"O problema não tem solução viável.\")\n",
    "        return []\n"
   ]
  },
  {
   "cell_type": "markdown",
   "metadata": {},
   "source": [
    "### Simulação de aplicações\n",
    "\n",
    "Altere o <b>valor_para_aplica </b> e a <b>lista de fundos</b> que deseja adicionar em sua carteira."
   ]
  },
  {
   "cell_type": "code",
   "execution_count": 6,
   "metadata": {
    "scrolled": true
   },
   "outputs": [
    {
     "name": "stdout",
     "output_type": "stream",
     "text": [
      "****************************************\n",
      " Cotação do dia \n",
      "FII hglg11 cotado a R$ 135.83\n",
      "último dividendo de hglg11 =  R$ 0.75\n",
      "\n",
      "FII ctxt11 cotado a R$ 4.07\n",
      "último dividendo de ctxt11 =  R$ 0.0274\n",
      "\n",
      "FII abcp11 cotado a R$ 16.65\n",
      "último dividendo de abcp11 =  R$ 0.085\n",
      "\n",
      "FII mfii11 cotado a R$ 98.9\n",
      "último dividendo de mfii11 =  R$ 1.13\n",
      "\n",
      "****************************************\n",
      "A solução existe e foi encontrada\n",
      "Rendimento baseado nos dividendos: R$ 5.6774\n",
      "\n",
      "\n",
      "****************************************\n",
      "Como devo aplicar\n",
      "     Fundo Imobiliário hglg11 =  0.0 cotas \n",
      "     Fundo Imobiliário ctxt11 =  1.0 cotas \n",
      "     Fundo Imobiliário abcp11 =  0.0 cotas \n",
      "     Fundo Imobiliário mfii11 =  5.0 cotas \n"
     ]
    }
   ],
   "source": [
    "valor_para_aplicar = 500\n",
    "\n",
    "fundos = []\n",
    "fundos.append('hglg11')\n",
    "fundos.append('ctxt11')\n",
    "fundos.append('abcp11')\n",
    "fundos.append('mfii11')\n",
    "\n",
    "maximizado = alocar_recurso(fundos, valor_para_aplicar)\n",
    "\n",
    "if len(maximizado) > 0:\n",
    "    print(\"\\n\")\n",
    "    print(40 * \"*\")\n",
    "    print(\"Como devo aplicar\")\n",
    "    for fundo in maximizado:\n",
    "        print(\"     Fundo Imobiliário \" + str(fundo) + \" =  \" + str(fundo.varValue) + \" cotas \")\n"
   ]
  },
  {
   "cell_type": "code",
   "execution_count": null,
   "metadata": {},
   "outputs": [],
   "source": []
  }
 ],
 "metadata": {
  "kernelspec": {
   "display_name": "Python 3",
   "language": "python",
   "name": "python3"
  },
  "language_info": {
   "codemirror_mode": {
    "name": "ipython",
    "version": 3
   },
   "file_extension": ".py",
   "mimetype": "text/x-python",
   "name": "python",
   "nbconvert_exporter": "python",
   "pygments_lexer": "ipython3",
   "version": "3.6.3"
  }
 },
 "nbformat": 4,
 "nbformat_minor": 2
}
