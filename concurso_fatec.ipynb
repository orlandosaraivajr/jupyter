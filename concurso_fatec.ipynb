{
 "cells": [
  {
   "cell_type": "code",
   "execution_count": 1,
   "metadata": {},
   "outputs": [],
   "source": [
    "import requests\n",
    "from bs4 import BeautifulSoup\n",
    "\n",
    "link = 'https://urhsistemas.cps.sp.gov.br/dgsdad/SelecaoPublica/FATEC/ConcursoDocente/Abertos.aspx'\n",
    "link = 'https://urhsistemas.cps.sp.gov.br/dgsdad/SelecaoPublica/FATEC/ProcessoSeletivo/Abertos.aspx'\n",
    "page = requests.get(link)\n",
    "soup = BeautifulSoup(page.content, 'html.parser')\n",
    "tabela = soup.findAll('table', class_='table')\n"
   ]
  },
  {
   "cell_type": "code",
   "execution_count": 7,
   "metadata": {
    "scrolled": true
   },
   "outputs": [
    {
     "name": "stdout",
     "output_type": "stream",
     "text": [
      "TECNOLOGIAS FLORESTAIS\t TAQUARITINGA\n",
      "\n",
      " \n",
      "TECNOLOGIAS FLORESTAIS\t TAQUARITINGA\n",
      "\n",
      " \n",
      "SISTEMAS DIMENSIONAIS\t TAQUARITINGA\n",
      "\n",
      " \n",
      "MÉTODOS DE SIMULAÇÃO APLICADOS À PRODUÇÃO\t TAQUARITINGA\n",
      "\n",
      " \n",
      "MÉTODOS DE SIMULAÇÃO APLICADOS À PRODUÇÃO\t TAQUARITINGA\n",
      "\n",
      " \n",
      "PLANEJAMENTO, PROGRAMAÇÃO E CONTROLE DA PRODUÇÃO\t FRANCA\n",
      "\n",
      " \n",
      "GEOCIÊNCIAS\t ITAPETININGA\n",
      "\n",
      " \n",
      "COMANDOS ELÉTRICOS\t TATUÍ\n",
      "\n",
      " \n",
      "COMÉRCIO INTERNACIONAL\t JALES\n",
      "\n",
      " \n",
      "FUNDAMENTOS DA GESTÃO DA QUALIDADE\t JALES\n",
      "\n",
      " \n",
      "NEGÓCIOS INTERNACIONAIS\t JALES\n",
      "\n",
      " \n",
      "QUÍMICA GERAL E QUANTITATIVA\t POMPÉIA\n",
      "\n",
      " \n",
      "LOGÍSTICA\t BEBEDOURO\n",
      "\n",
      " \n",
      "COMUNICAÇÃO INTERNA E ENDOMARKETING\t ARARAQUARA\n",
      "\n",
      " \n",
      "GESTÃO DE PESSOAS\t ARARAQUARA\n",
      "\n",
      " \n",
      "LIDERANÇA E MOTIVAÇÃO\t ARARAQUARA\n",
      "\n",
      " \n",
      "GESTÃO DE PROCESSOS\t ADAMANTINA\n",
      "\n",
      " \n",
      "INTRODUÇÃO AO DESENVOLVIMENTO DE SISTEMAS\t FERRAZ DE VASCONCELOS\n",
      "\n",
      " \n",
      "PROGRAMAÇÃO ORIENTADA A OBJETOS\t FERRAZ DE VASCONCELOS\n",
      "\n",
      " \n",
      "SISTEMAS DE INFORMAÇÃO\t FERRAZ DE VASCONCELOS\n",
      "\n",
      " \n"
     ]
    }
   ],
   "source": [
    "concursos = tabela[1].findAll('tr')\n",
    "# print(len(concursos))\n",
    "for x in concursos:\n",
    "    valor = str(x)\n",
    "    if \"<th \" not in valor: \n",
    "        # print(valor)\n",
    "        concurso = x.findAll('td')\n",
    "        codigo_unidade = str(concurso[1].contents[0])\n",
    "        unidade = str(concurso[2].contents[0])\n",
    "        cidade = str(concurso[3].contents[0])\n",
    "        disciplina = str(concurso[6].contents[0])\n",
    "        print(disciplina + \"\\t \" +cidade.upper())\n",
    "        print(\"\\n \")\n",
    "        \n",
    "        \n"
   ]
  },
  {
   "cell_type": "code",
   "execution_count": null,
   "metadata": {},
   "outputs": [],
   "source": []
  }
 ],
 "metadata": {
  "kernelspec": {
   "display_name": "Python 3",
   "language": "python",
   "name": "python3"
  },
  "language_info": {
   "codemirror_mode": {
    "name": "ipython",
    "version": 3
   },
   "file_extension": ".py",
   "mimetype": "text/x-python",
   "name": "python",
   "nbconvert_exporter": "python",
   "pygments_lexer": "ipython3",
   "version": "3.6.3"
  }
 },
 "nbformat": 4,
 "nbformat_minor": 2
}
